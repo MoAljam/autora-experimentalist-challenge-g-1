{
  "cells": [
    {
      "cell_type": "markdown",
      "metadata": {
        "id": "wmZ1RNydtCA1"
      },
      "source": [
        "# Introduction\n",
        "\n",
        "In this benchmarking challenge, you will be tasked to create an [AutoRA experimentalist](https://autoresearch.github.io/autora/experimentalist/) that efficiently samples experiments in order to advance model discovery.\n",
        "\n",
        "You can use this notebook to benchmark your experimentalist. Here, we will simulate a discovery experiment in which three different theorists are at work after each data collection cycle. You get to try out your experimentalist for two different ground truth models.\n",
        "\n",
        "## Workflow\n",
        "\n",
        "Your goal is to optimize the data collection process in the following workflow:\n",
        "\n",
        "1. Sample 10 initial data points\n",
        "2. Fit all theorists to those data points.\n",
        "\n",
        "For 20 data points:\n",
        "3. Pick a single novel data point using your experimentalist method. Your method may or may not take into account any of the theorists' models.\n",
        "4. Add the data point to the experiment data.\n",
        "5. Fit all theorists to the experiment data\n",
        "6. Repeat steps 3-6 until 20 data points were collected\n",
        "\n",
        "This workflow can be repeated two ground-truth models.\n",
        "\n",
        "\n",
        "\n",
        "\n",
        "\n",
        "\n"
      ]
    },
    {
      "cell_type": "markdown",
      "metadata": {
        "id": "Cvka_h_k3KhR"
      },
      "source": [
        "## Benchmarking Challenge Rules\n",
        "\n",
        "- All contributing teams must publish a pip package of their experimentalist (we recommend using a pre-release) or have a working git repository that can be installed via ``!pip install git+https://github.com/musslick/autora-experimentalist-example``\n",
        "- The package name must be ``autora-experimentalist-yourexperimentalist``\n",
        "- The **experimentalist must have a sample function (see [this guide](https://autoresearch.github.io/autora/contribute/modules/experimentalist/))**, and it must be **compatible with the state logic** in this notebook.\n",
        "\n",
        "- Teams will be ranked based on the final fit to a ground-truth model. Observations will be sampled across the entire domain of the ground-truth model. The rank will be accumulated across all benchmarking challenges. The team with the best accumulated rank will win a prize at the end of the workshop.\n",
        "- The teams must provide a **brief presentation** (less than 5 minutes) of their experimentalist just before the final evaluation. You may use [this template for your slides](https://docs.google.com/presentation/d/1qCKqH9uXkQmGqDmROh1Jn4UcauALkMRhqlbAHubns2Q/edit?usp=sharing).\n",
        "\n",
        "*Hint: You may take some inspiration (or come up with a combination of) the [existing experimentalists](https://autoresearch.github.io/autora/experimentalist/).*"
      ]
    },
    {
      "cell_type": "markdown",
      "metadata": {
        "id": "h--sPj7T3Nqc"
      },
      "source": [
        "## Grading\n",
        "\n",
        "- Due date: **August 30**\n",
        "- Submission: Through ``Stud.IP -> Tasks -> Experiment Sampling Challenge``\n",
        "\n",
        "The grading is independent of the outcome of the benchmarking challenge.\n",
        "\n",
        "The following points will be provided:\n",
        "- A demonstration of the theorist in the ``doc/Basic Usage.ipynb``:\n",
        "  -  2 points: Demonstrating how to use the experimentalist for sampling\n",
        "  -  8 points: Demonstrating how the expeirmentalist compares to random sampling. This should be done by simulating closed-loop discovery process with a theorist of your choice (e.g., autora-theorist-bms) on at least two ground-truth models (*Hint: You could use the benchmarking part of the notebook below as a starting point*).\n",
        "- The documentation of the experimentalist in ``doc/index.md`` must speak to the following information:\n",
        "  - 2 points: the inputs: Which inputs is your experiment sampling method considering and why?\n",
        "  - 2 points: sampling method: which sampling method are you using and why?\n",
        "- 2 points: The code contains at least two useful unit tests for the experimentalist method (either doc tests or separate tests)\n",
        "- 1 point: the contributors used issues to track bugs and work on features.\n",
        "- 1 point: the contributors used (helpful) code reviews for their PRs.\n",
        "- 1 point: Unit tests are automatically executed when a pull request is created.\n",
        "- 1 point: The documentation is hosted automatically.\n",
        "\n",
        "Finally, teams must outline the contributions of each team member in their submission on ``Stud.IP -> Tasks -> Experiment Sampling Challenge``.\n",
        "\n",
        "In total, you can obtain 20 points."
      ]
    },
    {
      "cell_type": "markdown",
      "metadata": {
        "id": "J4ICn4w03PdN"
      },
      "source": [
        "## Additional Resources\n",
        "\n",
        "- You can learn more about how to write AutoRA experimentalists in the [Contributor Guide](https://autoresearch.github.io/autora/contribute/modules/experimentalist/).\n",
        "\n",
        "- You can learn more about how to use AutoRA in the [User Tutorial](https://autoresearch.github.io/autora/tutorials/).\n",
        "\n",
        "- If you want to learn more about AutoRA states, you can check out [this tutorial on using AutoRA states](https://colab.research.google.com/drive/1yK1OBRpPZM1NgTMV9arHlE5j8xXjsGqq?usp=sharing)."
      ]
    },
    {
      "cell_type": "markdown",
      "metadata": {
        "id": "zowXxLUR3s8I"
      },
      "source": [
        "# Code for Benchmarking your Experimentalist"
      ]
    },
    {
      "cell_type": "markdown",
      "metadata": {
        "id": "an-QPQhcljHa"
      },
      "source": [
        "## *Installation [EDIT HERE]\n",
        "\n",
        "*Hint: You may want to add ``autora`` as a development dependency in your ``pyproject.tml``.*"
      ]
    },
    {
      "cell_type": "code",
      "execution_count": 1,
      "metadata": {
        "id": "8nzJmQwQlkh_"
      },
      "outputs": [],
      "source": [
        "%%capture\n",
        "!pip install autora\n",
        "!pip install autora[all-theorists]\n",
        "!pip install autora[all-experimentalists]\n",
        "\n",
        "# ADD YOUR GITHUB REPO LINK HERE\n",
        "!pip install git+https://github.com/MoAljam/autora-experimentalist-challenge-g-1"
      ]
    },
    {
      "cell_type": "markdown",
      "metadata": {
        "id": "dLi8_Zt-l_oz"
      },
      "source": [
        "## Imports"
      ]
    },
    {
      "cell_type": "code",
      "execution_count": 2,
      "metadata": {},
      "outputs": [],
      "source": [
        "from autora.experimentalist.adaptable import adaptable_sample\n",
        "from autora.experimentalist.progressive import progressive_sample\n",
        "from autora.experimentalist.progressive_multi import progressive_multi_sample\n",
        "from autora.experimentalist.confirmation import confirmation_sample, confirmation_score_sample\n",
        "from tqdm import tqdm\n",
        "\n",
        "# experimentalist\n",
        "from autora.experimentalist.grid import grid_pool\n",
        "from autora.experimentalist.random import random_pool, random_sample\n",
        "from autora.experimentalist.falsification import falsification_sample, falsification_score_sample\n",
        "from autora.experimentalist.model_disagreement import model_disagreement_sample, model_disagreement_score_sample\n",
        "from autora.experimentalist.uncertainty import uncertainty_sample\n",
        "from autora.experimentalist.novelty import novelty_sample, novelty_score_sample\n",
        "from autora.experimentalist.mixture import mixture_sample\n",
        "\n",
        "import logging\n"
      ]
    },
    {
      "cell_type": "code",
      "execution_count": 3,
      "metadata": {
        "id": "Ty6AuO0iloHs"
      },
      "outputs": [],
      "source": [
        "# autora state\n",
        "from autora.state import State, StandardState, on_state, estimator_on_state, Delta, VariableCollection\n",
        "\n",
        "# experiment_runner\n",
        "from autora.experiment_runner.synthetic.neuroscience.task_switching import task_switching\n",
        "\n",
        "# experimentalist\n",
        "from autora.experimentalist.grid import grid_pool\n",
        "from autora.experimentalist.random import random_pool, random_sample\n",
        "from autora.experimentalist.falsification import falsification_sample\n",
        "from autora.experimentalist.model_disagreement import model_disagreement_sample\n",
        "from autora.experimentalist.uncertainty import uncertainty_sample\n",
        "\n",
        "# theorist\n",
        "from autora.theorist.bms import BMSRegressor\n",
        "\n",
        "# sklearn\n",
        "from sklearn.base import BaseEstimator\n",
        "from sklearn.model_selection import train_test_split\n",
        "from sklearn import linear_model\n",
        "\n",
        "# general\n",
        "import numpy as np\n",
        "import pandas as pd\n",
        "import matplotlib.pyplot as plt\n",
        "from dataclasses import dataclass, field\n",
        "from typing import Optional, List\n"
      ]
    },
    {
      "cell_type": "markdown",
      "metadata": {
        "id": "VexBfX_UDjeZ"
      },
      "source": [
        "## AutoRA Components & State Wrappers\n",
        "\n",
        "First, we will need some theorists. Here, we will use three theorists simultaneously:\n",
        "- the Bayesian Machine Scientist\n",
        "- a polynomial theorist (from the Equation Discovery Challenge)\n",
        "- a linear regression theorist."
      ]
    },
    {
      "cell_type": "markdown",
      "metadata": {
        "id": "xKnfmcqMDmU5"
      },
      "source": [
        "### Polynomial Theorist\n",
        "\n",
        "Below, we will use a polynomial theorist for our discovery simulation. We saw that it did quite well in the equation discovery challenge, so why not give it a try."
      ]
    },
    {
      "cell_type": "code",
      "execution_count": 4,
      "metadata": {
        "id": "L3el1qBjD2K4"
      },
      "outputs": [],
      "source": [
        "from sklearn.preprocessing import PolynomialFeatures\n",
        "from sklearn.linear_model import LinearRegression\n",
        "\n",
        "class PolynomialRegressor:\n",
        "    \"\"\"\n",
        "    This theorist fits a polynomial function to the data.\n",
        "    \"\"\"\n",
        "\n",
        "    def __init__(self, degree: int = 3):\n",
        "      self.poly = PolynomialFeatures(degree=degree, include_bias=False)\n",
        "      self.model = LinearRegression()\n",
        "\n",
        "    def fit(self, x, y):\n",
        "      features = self.poly.fit_transform(x, y)\n",
        "      self.model.fit(features, y)\n",
        "      return self\n",
        "\n",
        "    def predict(self, x):\n",
        "      features = self.poly.fit_transform(x)\n",
        "      return self.model.predict(features)\n",
        "\n",
        "    def print_eqn(self):\n",
        "        # Extract the coefficients and intercept\n",
        "        coeffs = self.model.coef_\n",
        "        intercept = self.model.intercept_\n",
        "\n",
        "        # Handle multi-output case by iterating over each output's coefficients and intercept\n",
        "        if coeffs.ndim > 1:\n",
        "            for idx in range(coeffs.shape[0]):\n",
        "                equation = f\"y{idx+1} = {intercept[idx]:.3f}\"\n",
        "                feature_names = self.poly.get_feature_names_out()\n",
        "                for coef, feature in zip(coeffs[idx], feature_names):\n",
        "                    equation += f\" + ({coef:.3f}) * {feature}\"\n",
        "                print(equation)\n",
        "        else:\n",
        "            equation = f\"y = {intercept:.3f}\"\n",
        "            feature_names = self.poly.get_feature_names_out()\n",
        "            for coef, feature in zip(coeffs, feature_names):\n",
        "                equation += f\" + ({coef:.3f}) * {feature}\"\n",
        "            print(equation)\n",
        "\n"
      ]
    },
    {
      "cell_type": "markdown",
      "metadata": {
        "id": "s6lhZO-SI8LF"
      },
      "source": [
        "### AutoRA State\n",
        "\n",
        "Next, we define our AutoRA state which acts as modifiable \"bucket\" for all the data we are going to collect during the discovery cycle. Here, we will implement a more complicated AutoRA experiment in which we have simutlaneously fit 3 models (from 3 different theorists) and we want to keep track of all of them."
      ]
    },
    {
      "cell_type": "code",
      "execution_count": 5,
      "metadata": {
        "id": "rUlJzPVbJRg_"
      },
      "outputs": [],
      "source": [
        "# SET UP STATE\n",
        "# Here, we use a non-standard State to be able to use a multiple models\n",
        "@dataclass(frozen=True)\n",
        "class CustomState(State):\n",
        "    variables: Optional[VariableCollection] = field(\n",
        "        default=None, metadata={\"delta\": \"replace\"}\n",
        "    )\n",
        "    conditions: Optional[pd.DataFrame] = field(\n",
        "        default=None, metadata={\"delta\": \"replace\", \"converter\": pd.DataFrame}\n",
        "    )\n",
        "    experiment_data: Optional[pd.DataFrame] = field(\n",
        "        default=None, metadata={\"delta\": \"extend\", \"converter\": pd.DataFrame}\n",
        "    )\n",
        "    models_bms: List[BaseEstimator] = field(\n",
        "        default_factory=list,\n",
        "        metadata={\"delta\": \"extend\"},\n",
        "    )\n",
        "    models_lr: List[BaseEstimator] = field(\n",
        "        default_factory=list,\n",
        "        metadata={\"delta\": \"extend\"},\n",
        "    )\n",
        "    models_polyr: List[BaseEstimator] = field(\n",
        "        default_factory=list,\n",
        "        metadata={\"delta\": \"extend\"},\n",
        "    )"
      ]
    },
    {
      "cell_type": "markdown",
      "metadata": {
        "id": "Hl65zUC-I2vX"
      },
      "source": [
        "### AutoRA State Wrappers\n",
        "\n",
        "Next, we need to define a bunch of wrappers. These wrappers will make it easy to operate on the state. They specify which things are being pulled from the state and which things are being stored."
      ]
    },
    {
      "cell_type": "markdown",
      "metadata": {
        "id": "_ahabyf9J5RF"
      },
      "source": [
        "#### Theorist Wrapper"
      ]
    },
    {
      "cell_type": "code",
      "execution_count": 6,
      "metadata": {
        "id": "07NSganHJ7Pf"
      },
      "outputs": [],
      "source": [
        "# state wrapper for all theorists\n",
        "@on_state()\n",
        "def theorists_on_state(experiment_data, variables, bms_epochs):\n",
        "\n",
        "  # extract conditions X and observations y from experiment data\n",
        "  ivs = [iv.name for iv in variables.independent_variables]\n",
        "  dvs = [dv.name for dv in variables.dependent_variables]\n",
        "  X = experiment_data[ivs]\n",
        "  y = experiment_data[dvs]\n",
        "\n",
        "  # initialize and fit theorists\n",
        "  theorist_bms = BMSRegressor(epochs=bms_epochs)\n",
        "  theorist_polyr = PolynomialRegressor()\n",
        "  theorist_lr = linear_model.LinearRegression()\n",
        "\n",
        "  return Delta(models_bms = [theorist_bms.fit(X, y)],\n",
        "               models_lr=[theorist_lr.fit(X, y)],\n",
        "               models_polyr=[theorist_polyr.fit(X, y)])"
      ]
    },
    {
      "cell_type": "markdown",
      "metadata": {
        "id": "7n4buGk3LEmB"
      },
      "source": [
        "#### *Experimentalist Wrappers [EDIT HERE]"
      ]
    },
    {
      "cell_type": "code",
      "execution_count": 7,
      "metadata": {
        "id": "_uw7z74IJtGx"
      },
      "outputs": [],
      "source": [
        "# state wrapper for grid pooler experimentalist (generates a grid of experiment conditions)\n",
        "@on_state()\n",
        "def grid_pool_on_state(variables):\n",
        "  return Delta(conditions=grid_pool(variables))\n",
        "\n",
        "# state wrapper for random pooler experimentalist (generates a pool of experiment conditions)\n",
        "@on_state()\n",
        "def random_pool_on_state(variables, num_samples, random_state=None):\n",
        "  return Delta(conditions=random_pool(variables, num_samples, random_state))\n",
        "\n",
        "# state wrapper for random experimentalist (samples experiment conditions from a set of conditions)\n",
        "@on_state()\n",
        "def random_sample_on_state(conditions, all_conditions, num_samples, random_state=None):\n",
        "  return Delta(conditions=random_sample(all_conditions, num_samples, random_state))\n",
        "\n",
        "# **** STATE WRAPPER FOR YOUR EXPERIMENTALIST ***\n",
        "@on_state()\n",
        "def custom_sample_on_state(\n",
        "    experiment_data,\n",
        "    variables,\n",
        "    models_bms,\n",
        "    models_lr,\n",
        "    models_polyr,\n",
        "    all_conditions,\n",
        "    cycle=None,\n",
        "    max_cycle=None,\n",
        "    num_samples=1,\n",
        "    random_state=None,\n",
        "):\n",
        "    # temperature(0-1) to determine the progress of the discovery process\n",
        "    temperature = cycle / max_cycle\n",
        "    temperature = np.clip(temperature, 0, 1)\n",
        "\n",
        "    # get the input relevant to some of the samplers\n",
        "    # independent and dependent variables for the metadata\n",
        "    iv = variables.independent_variables\n",
        "    dv = variables.dependent_variables\n",
        "    meta_data = VariableCollection(independent_variables=iv, dependent_variables=dv)\n",
        "\n",
        "    # reference conditions and observations\n",
        "    ivs = [iv.name for iv in variables.independent_variables]\n",
        "    dvs = [dv.name for dv in variables.dependent_variables]\n",
        "    reference_conditions = experiment_data[ivs]\n",
        "    reference_observations = experiment_data[dvs]\n",
        "\n",
        "    # remove the conditions that have already been sampled from the conditions pool\n",
        "    # remove reference conditions from the conditions pool\n",
        "    if isinstance(all_conditions, pd.DataFrame) and isinstance(reference_conditions, pd.DataFrame):\n",
        "        conditions_pool = pd.concat([all_conditions, reference_conditions])\n",
        "        conditions_pool = conditions_pool.drop_duplicates(keep=False)\n",
        "    else:\n",
        "        conditions_pool = all_conditions[~all_conditions.isin(reference_conditions)].dropna()\n",
        "\n",
        "    # NOTE: the sampler is performeing a bit worse when including falsification and confirmation\n",
        "    #       possiblly due to passing only one model to theses samplers\n",
        "    #       while the performance is based on 3 models\n",
        "    samplers = [\n",
        "        {\n",
        "            \"func\": novelty_score_sample,\n",
        "            \"name\": \"novelty\",\n",
        "            \"params\": {\"reference_conditions\": reference_conditions},\n",
        "        },\n",
        "        # {\n",
        "        #     \"func\": falsification_score_sample,\n",
        "        #     \"name\": \"falsification\",\n",
        "        #     \"params\": {\n",
        "        #         \"reference_conditions\": reference_conditions,\n",
        "        #         \"reference_observations\": reference_observations,\n",
        "        #         \"metadata\": meta_data,\n",
        "        #         \"model\": models_polyr[-1],\n",
        "        #     },\n",
        "        # },\n",
        "        {\n",
        "            \"func\": model_disagreement_score_sample,\n",
        "            \"name\": \"model_disagreement\",\n",
        "            \"params\": {\n",
        "                \"models\": [models_bms[-1], models_lr[-1], models_polyr[-1]],\n",
        "            },\n",
        "        },\n",
        "        {\n",
        "            \"func\": confirmation_score_sample,\n",
        "            \"name\": \"confirmation\",\n",
        "            \"params\": {\n",
        "                \"reference_conditions\": reference_conditions,\n",
        "                \"reference_observations\": reference_observations,\n",
        "                \"metadata\": meta_data,\n",
        "                \"model\": models_polyr[-1],\n",
        "            },\n",
        "        },\n",
        "    ]\n",
        "    # samplers_coords = [0, 1, 3, 4, 6]  # optional\n",
        "    # samplers_coords = [1, 2, 5]\n",
        "    # samplers_coords = [0, 2, 3, 5]\n",
        "\n",
        "    adaptable_sampler_sensitivity = 14\n",
        "\n",
        "    new_conditions = adaptable_sample(\n",
        "        conditions=conditions_pool,\n",
        "        reference_conditions=reference_conditions,\n",
        "        models=models_polyr,  # pass only the polyr models\n",
        "        samplers=samplers,\n",
        "        num_samples=num_samples,\n",
        "        # samplers_coords=samplers_coords,\n",
        "        sensitivity=adaptable_sampler_sensitivity,\n",
        "        plot=False,\n",
        "    )\n",
        "\n",
        "    # new_conditions = progressive_sample(\n",
        "    #     conditions=all_conditions,\n",
        "    #     num_samples=num_samples,\n",
        "    #     # models=[models_lr[-1], models_polyr[-1]],\n",
        "    #     temprature=temperature,\n",
        "    #     samplers=samplers,\n",
        "    #    # samplers_coords=samplers_coords,\n",
        "    # )\n",
        "\n",
        "    return Delta(conditions=new_conditions)\n"
      ]
    },
    {
      "cell_type": "markdown",
      "metadata": {
        "id": "9DyqbEH2LB-i"
      },
      "source": [
        "#### Experiment Runner Wrapper"
      ]
    },
    {
      "cell_type": "code",
      "execution_count": 8,
      "metadata": {
        "id": "fyUlh7vBJQwk"
      },
      "outputs": [],
      "source": [
        "# state wrapper for synthetic experiment runner\n",
        "@on_state()\n",
        "def run_experiment_on_state(conditions, experiment_runner):\n",
        "  data = experiment_runner.run(conditions=conditions, added_noise=0.0)\n",
        "  return Delta(experiment_data=data)"
      ]
    },
    {
      "cell_type": "markdown",
      "metadata": {
        "id": "pwlTublQiWMp"
      },
      "source": [
        "## Simulation Functions\n",
        "\n",
        "First, we will need a function that we can use to evaluate the goodness of our theorists. We will use the one below (no need to parse it)."
      ]
    },
    {
      "cell_type": "code",
      "execution_count": 9,
      "metadata": {
        "id": "uHuIbsSbN0Ng"
      },
      "outputs": [],
      "source": [
        "# the following function is used to compute the model performance\n",
        "# on the validation set in terms of mean squared error\n",
        "def get_validation_MSE(validation_experiment_data, working_state):\n",
        "    ivs = [iv.name for iv in validation_experiment_data.variables.independent_variables]\n",
        "    dvs = [dv.name for dv in validation_experiment_data.variables.dependent_variables]\n",
        "    X = validation_experiment_data.experiment_data[ivs]\n",
        "    y = validation_experiment_data.experiment_data[dvs]\n",
        "\n",
        "    y_pred_bms = working_state.models_bms[-1].predict(X)\n",
        "    y_pred_lr = working_state.models_lr[-1].predict(X)\n",
        "    y_pred_polyr = working_state.models_polyr[-1].predict(X)\n",
        "\n",
        "    MSE_bms = ((y - y_pred_bms)**2).mean()[0]\n",
        "    MSE_lr = ((y - y_pred_lr)**2).mean()[0]\n",
        "    MSE_polyr = ((y - y_pred_polyr)**2).mean()[0]\n",
        "\n",
        "    min_MSE = min(MSE_bms, MSE_lr, MSE_polyr)\n",
        "\n",
        "    return min_MSE"
      ]
    },
    {
      "cell_type": "markdown",
      "metadata": {
        "id": "k8mSIAfmN9Rr"
      },
      "source": [
        "We will use the following function for benchmarking our model for any given experiment runner. Have a closer look at the script below.\n",
        "\n",
        "It uses four different AutoRA states:\n",
        "- ``validation_conditions`` and ``validation_experiment_data``: These states contains our validation sets, sampled across the entire domain of the ground truth. It is used for tracking the validation MSE of all theorists.\n",
        "\n",
        "- ``initial_state``: This state is used to initialize the discovery process. Both the random experimentalist (operating on the ``benchmark_state``) and your custom experimentalist (operating on the ``working_state`` will use the same initial state.)\n",
        "\n",
        "- ``benchmark_state``: This state is used for a discovery process with random sampling.\n",
        "\n",
        "- ``working_state``: This state is used for a discovery process with your custom experimentalist."
      ]
    },
    {
      "cell_type": "code",
      "execution_count": 10,
      "metadata": {
        "id": "-2n53aEYLhEF"
      },
      "outputs": [],
      "source": [
        "from concurrent.futures import ThreadPoolExecutor\n",
        "from tqdm import tqdm\n",
        "\n",
        "# region run simulation\n",
        "def run_simulation(num_cycles, num_conditions_per_cycle, num_initial_conditions, bms_epochs, experiment_runner, sim=0):\n",
        "    # VALIDATION STATE\n",
        "    # at every step of our discovery process, we will evaluate the performance\n",
        "    # of the theorist against the ground truth. Here, we will define the ground\n",
        "    # truth as a grid of data points sampled across the domain of the experimental\n",
        "    # design space. We will store this validation set in a separate validation states\n",
        "\n",
        "    # create AutoRA state for validation purposes\n",
        "    # validation_conditions = CustomState(variables=experiment_runner.variables)\n",
        "    # validation_experiment_data = CustomState(variables=experiment_runner.variables)\n",
        "\n",
        "    # # our validation set will be consist of a grid of experiment conditons\n",
        "    # # across the entire experimental design domain\n",
        "    # validation_conditions = grid_pool_on_state(validation_conditions)\n",
        "    # validation_experiment_data = grid_pool_on_state(validation_experiment_data)\n",
        "    # validation_experiment_data = run_experiment_on_state(\n",
        "    #     validation_experiment_data, experiment_runner=experiment_runner\n",
        "    # )\n",
        "\n",
        "    with ThreadPoolExecutor(max_workers=2) as executor:\n",
        "        validation_conditions_future = executor.submit(\n",
        "            grid_pool_on_state, CustomState(variables=experiment_runner.variables)\n",
        "        )\n",
        "        validation_experiment_data_future = executor.submit(\n",
        "            grid_pool_on_state, CustomState(variables=experiment_runner.variables)\n",
        "        )\n",
        "\n",
        "    validation_conditions = validation_conditions_future.result()\n",
        "    validation_experiment_data = run_experiment_on_state(\n",
        "        validation_experiment_data_future.result(), experiment_runner=experiment_runner\n",
        "    )\n",
        "\n",
        "    benchmark_MSE_log = list()\n",
        "    working_MSE_log = list()\n",
        "\n",
        "    # INITIAL STATE\n",
        "    # We begin our discovery experiment with randomly sampled data set for 10\n",
        "    # conditions. We will use the same state for each experimentalist method.\n",
        "\n",
        "    # create initial AutoRA state which we will use for our discovery expeirments\n",
        "    initial_state = CustomState(variables=experiment_runner.variables)\n",
        "\n",
        "    # we will initiate our discovery process with 10 randomly sampled experiment conditions\n",
        "    initial_state = random_pool_on_state(initial_state, num_samples=num_initial_conditions, random_state=sim)\n",
        "\n",
        "    # we obtain the corresponding experiment data\n",
        "    initial_state = run_experiment_on_state(initial_state, experiment_runner=experiment_runner)\n",
        "\n",
        "    # initialize benchmark state for random experimentalist\n",
        "    benchmark_state = CustomState(**initial_state.__dict__)\n",
        "\n",
        "    # initialize working state for your custom experimentalist\n",
        "    working_state = CustomState(**initial_state.__dict__)\n",
        "\n",
        "    # for each discovery cycle\n",
        "    for cycle in tqdm(range(num_cycles), leave=True, desc=\"discovery cycles\"):\n",
        "\n",
        "        print(\"SIMULATION \" + str(sim) + \" / DISCOVERY CYCLE \" + str(cycle))\n",
        "\n",
        "        # first, we fit a model to the data\n",
        "        # print(\"Fitting models on benchmark state...\")\n",
        "        # benchmark_state = theorists_on_state(benchmark_state, bms_epochs=bms_epochs)\n",
        "        # print(\"Fitting models on working state...\")\n",
        "        # working_state = theorists_on_state(working_state, bms_epochs=bms_epochs)\n",
        "\n",
        "        with ThreadPoolExecutor(max_workers=2) as executor:\n",
        "            benchmark_future = executor.submit(theorists_on_state, benchmark_state, bms_epochs=bms_epochs)\n",
        "            working_future = executor.submit(theorists_on_state, working_state, bms_epochs=bms_epochs)\n",
        "\n",
        "        benchmark_state = benchmark_future.result()\n",
        "        working_state = working_future.result()\n",
        "\n",
        "        # now we can determine how well the models do on the validation set\n",
        "        # benchmark_MSE = get_validation_MSE(validation_experiment_data, benchmark_state)\n",
        "        # benchmark_MSE_log.append(benchmark_MSE)\n",
        "\n",
        "        # working_MSE = get_validation_MSE(validation_experiment_data, working_state)\n",
        "        # working_MSE_log.append(working_MSE)\n",
        "\n",
        "        # MSE calculation in parallel\n",
        "        with ThreadPoolExecutor(max_workers=2) as executor:\n",
        "            benchmark_MSE_future = executor.submit(get_validation_MSE, validation_experiment_data, benchmark_state)\n",
        "            working_MSE_future = executor.submit(get_validation_MSE, validation_experiment_data, working_state)\n",
        "\n",
        "        benchmark_MSE_log.append(benchmark_MSE_future.result())\n",
        "        working_MSE_log.append(working_MSE_future.result())\n",
        "\n",
        "        # then we determine the next experiment condition\n",
        "        # print(\"Sampling new experiment conditions...\")\n",
        "        # benchmark_state = random_sample_on_state(\n",
        "        #     benchmark_state, all_conditions=validation_conditions.conditions, num_samples=num_conditions_per_cycle\n",
        "        # )\n",
        "        # working_state = custom_sample_on_state(\n",
        "        #     working_state,\n",
        "        #     all_conditions=validation_conditions.conditions,\n",
        "        #     num_samples=num_conditions_per_cycle,\n",
        "        #     cycle=cycle,\n",
        "        #     max_cycle=num_cycles,\n",
        "        # )\n",
        "\n",
        "        # print(\"Obtaining observations...\")\n",
        "        # # we obtain the corresponding experiment data\n",
        "        # benchmark_state = run_experiment_on_state(benchmark_state, experiment_runner=experiment_runner)\n",
        "        # working_state = run_experiment_on_state(working_state, experiment_runner=experiment_runner)\n",
        "\n",
        "        with ThreadPoolExecutor(max_workers=2) as executor:\n",
        "            benchmark_sample_future = executor.submit(\n",
        "                random_sample_on_state,\n",
        "                benchmark_state,\n",
        "                all_conditions=validation_conditions.conditions,\n",
        "                num_samples=num_conditions_per_cycle,\n",
        "            )\n",
        "            working_sample_future = executor.submit(\n",
        "                custom_sample_on_state,\n",
        "                working_state,\n",
        "                all_conditions=validation_conditions.conditions,\n",
        "                num_samples=num_conditions_per_cycle,\n",
        "                cycle=cycle,\n",
        "                max_cycle=num_cycles,\n",
        "            )\n",
        "\n",
        "        benchmark_state = benchmark_sample_future.result()\n",
        "        working_state = working_sample_future.result()\n",
        "\n",
        "        with ThreadPoolExecutor(max_workers=2) as executor:\n",
        "            benchmark_experiment_future = executor.submit(\n",
        "                run_experiment_on_state, benchmark_state, experiment_runner=experiment_runner\n",
        "            )\n",
        "            working_experiment_future = executor.submit(\n",
        "                run_experiment_on_state, working_state, experiment_runner=experiment_runner\n",
        "            )\n",
        "\n",
        "        benchmark_state = benchmark_experiment_future.result()\n",
        "        working_state = working_experiment_future.result()\n",
        "\n",
        "    return benchmark_MSE_log, working_MSE_log, benchmark_state, working_state\n"
      ]
    },
    {
      "cell_type": "markdown",
      "metadata": {
        "id": "3B5mO66GMb3T"
      },
      "source": [
        "## Benchmarking Script"
      ]
    },
    {
      "cell_type": "markdown",
      "metadata": {
        "id": "mqu8m-hjfXVK"
      },
      "source": [
        "Let's first set some meta-parameters."
      ]
    },
    {
      "cell_type": "code",
      "execution_count": 11,
      "metadata": {
        "id": "40rWpRCKfcGL"
      },
      "outputs": [],
      "source": [
        "# meta parameters\n",
        "\n",
        "# DO NOT CHANGE THESE PARAMETERS\n",
        "num_cycles = 20\n",
        "num_conditions_per_cycle = 1\n",
        "num_initial_conditions = 1\n",
        "\n",
        "# YOU MAY CHANGE THESE PARAMETERS\n",
        "num_discovery_simulations = 10\n",
        "bms_epochs = 100 # Note, to speed things up, you can set bms_epochs = 10 or even bms_epochs = 1 (this will lead to poor performance of the BMS regressor but the other two theorists will still fit)"
      ]
    },
    {
      "cell_type": "markdown",
      "metadata": {
        "id": "s5s2_nSTMnHv"
      },
      "source": [
        "### Single Run (not used for validation)\n",
        "\n",
        "We recommend that you probe your experimentalist function for a single run. Once you are confident that your experimentalist works, we recommend running repeating the simulation experiment for at least iterations (``num_discovery_simulations``).\n",
        "\n",
        "How do your results look like for other ground truths, such as\n",
        "- ``luce_choice_ratio()`` or\n",
        "- ``expected_value_theory()`` ?"
      ]
    },
    {
      "cell_type": "code",
      "execution_count": null,
      "metadata": {
        "colab": {
          "base_uri": "https://localhost:8080/"
        },
        "id": "sqsuMqTd1OaY",
        "outputId": "713e0ad3-9c89-449d-f975-a6f221fe4d51"
      },
      "outputs": [],
      "source": [
        "logging.basicConfig(level=logging.CRITICAL)\n",
        "# setting experiment runner and theorist\n",
        "experiment_runner = task_switching()\n",
        "\n",
        "# run simulation\n",
        "benchmark_MSE_log, working_MSE_log, benchmark_state, working_state = run_simulation(num_cycles, num_conditions_per_cycle, num_initial_conditions, bms_epochs, experiment_runner)\n"
      ]
    },
    {
      "cell_type": "markdown",
      "metadata": {
        "id": "DxXTCLDzfjLr"
      },
      "source": [
        "We can now plot the results for a single discovery run."
      ]
    },
    {
      "cell_type": "code",
      "execution_count": 13,
      "metadata": {
        "colab": {
          "base_uri": "https://localhost:8080/",
          "height": 1000
        },
        "id": "0HfiASzDfiRA",
        "outputId": "76db9233-7c58-4c3b-b949-340d58cde39f"
      },
      "outputs": [
        {
          "name": "stdout",
          "output_type": "stream",
          "text": [
            "    cur_task_strength  alt_task_strength  is_switch  cur_task_performance\n",
            "0                0.86               0.64          1              0.592120\n",
            "1                0.28               0.92          1              0.440713\n",
            "2                0.34               0.68          1              0.491471\n",
            "3                0.24               0.02          1              0.751508\n",
            "4                0.78               0.90          0              0.651694\n",
            "5                0.42               0.24          0              0.894024\n",
            "6                0.82               0.02          0              0.983827\n",
            "7                0.52               0.16          0              0.940818\n",
            "8                0.06               0.22          0              0.808168\n",
            "9                0.32               0.72          1              0.481478\n",
            "10               0.46               0.82          1              0.463298\n",
            "11               0.26               0.56          0              0.686704\n",
            "12               0.56               0.50          0              0.790876\n",
            "13               0.30               0.40          1              0.586171\n",
            "14               0.34               0.14          0              0.925820\n",
            "15               0.26               0.76          1              0.477301\n",
            "16               0.06               0.30          1              0.743844\n",
            "17               0.26               0.84          0              0.561853\n",
            "18               0.44               0.72          0              0.654539\n",
            "19               0.84               0.76          0              0.720138\n",
            "20               0.50               0.32          0              0.868912\n",
            "    cur_task_strength  alt_task_strength  is_switch  cur_task_performance\n",
            "0                0.86               0.64        1.0              0.592120\n",
            "1                0.02               0.02        0.0              0.915420\n",
            "2                1.00               1.00        1.0              0.517282\n",
            "3                0.02               1.00        0.0              0.486670\n",
            "4                1.00               0.02        0.0              0.986403\n",
            "5                0.72               0.02        1.0              0.850897\n",
            "6                0.02               1.00        1.0              0.516099\n",
            "7                1.00               1.00        0.0              0.650686\n",
            "8                0.02               0.02        1.0              0.903141\n",
            "9                0.02               0.04        0.0              0.903635\n",
            "10               1.00               0.98        0.0              0.657691\n",
            "11               1.00               0.02        1.0              0.900523\n",
            "12               0.02               0.98        1.0              0.521232\n",
            "13               0.98               0.02        0.0              0.986169\n",
            "14               0.02               0.98        0.0              0.492027\n",
            "15               0.02               0.04        1.0              0.896387\n",
            "16               0.98               1.00        1.0              0.513764\n",
            "17               0.38               1.00        0.0              0.532526\n",
            "18               0.44               1.00        1.0              0.426940\n",
            "19               0.42               0.44        1.0              0.575885\n",
            "20               1.00               0.04        0.0              0.984339\n"
          ]
        },
        {
          "data": {
            "image/png": "[encoded data removed]",
            "text/plain": [
              "<Figure size 640x480 with 1 Axes>"
            ]
          },
          "metadata": {},
          "output_type": "display_data"
        }
      ],
      "source": [
        "# lets plot the benchmark_MSE_log and the workign_MSE_log\n",
        "plt.plot(benchmark_MSE_log, label='benchmark_MSE_log')\n",
        "plt.plot(working_MSE_log, label='working_MSE_log')\n",
        "plt.xlabel('Sampled Data Points')\n",
        "plt.ylabel('MSE on Validation Set')\n",
        "plt.title('Single Discovery Simulation')\n",
        "plt.legend()\n",
        "\n",
        "# we can also investigate the final state more closely\n",
        "# for example, these are all the experimental data collected\n",
        "# under random sampling:\n",
        "print(benchmark_state.experiment_data)\n",
        "# and for your custom experimentalist\n",
        "print(working_state.experiment_data)"
      ]
    },
    {
      "cell_type": "markdown",
      "metadata": {
        "id": "H8Z7iU9pgBWu"
      },
      "source": [
        "### Averaging Across Multiple Runs [USED FOR VALIDATION]\n",
        "\n",
        "To become more confident in your experimentalist, you may want to repeat the discovery process N times..."
      ]
    },
    {
      "cell_type": "code",
      "execution_count": null,
      "metadata": {
        "colab": {
          "base_uri": "https://localhost:8080/"
        },
        "id": "OwL3zbg7hQNs",
        "outputId": "d4405344-383b-46b9-fc53-24e5ca32b0c7"
      },
      "outputs": [],
      "source": [
        "logging.basicConfig(level=logging.CRITICAL)\n",
        "\n",
        "# meta parameters\n",
        "\n",
        "# DO NOT CHANGE THESE PARAMETERS\n",
        "num_cycles = 20\n",
        "num_conditions_per_cycle = 1\n",
        "num_initial_conditions = 1\n",
        "num_discovery_simulations = 20\n",
        "bms_epochs = 100\n",
        "\n",
        "# setting experiment runner and theorist\n",
        "experiment_runner = task_switching()\n",
        "\n",
        "benchmark_MSE_plot_data = np.zeros([num_discovery_simulations, num_cycles])\n",
        "working_MSE_plot_data = np.zeros([num_discovery_simulations, num_cycles])\n",
        "\n",
        "for sim in range(num_discovery_simulations):\n",
        "  benchmark_MSE_log, working_MSE_log, benchmark_state, working_state = run_simulation(num_cycles, num_conditions_per_cycle, num_initial_conditions, bms_epochs, experiment_runner, sim)\n",
        "\n",
        "  benchmark_MSE_plot_data[sim, :] = benchmark_MSE_log\n",
        "  working_MSE_plot_data[sim, :] = working_MSE_log"
      ]
    },
    {
      "cell_type": "code",
      "execution_count": 15,
      "metadata": {
        "colab": {
          "base_uri": "https://localhost:8080/",
          "height": 489
        },
        "id": "5eL0nqtXhrAi",
        "outputId": "03296be4-8609-4e39-f475-c9e7876aacb4"
      },
      "outputs": [
        {
          "data": {
            "text/plain": [
              "<matplotlib.legend.Legend at 0x7a4d3d435f90>"
            ]
          },
          "execution_count": 15,
          "metadata": {},
          "output_type": "execute_result"
        },
        {
          "data": {
            "image/png": "[encoded data removed]",
            "text/plain": [
              "<Figure size 640x480 with 1 Axes>"
            ]
          },
          "metadata": {},
          "output_type": "display_data"
        }
      ],
      "source": [
        "# plot the data with standard error\n",
        "plt.errorbar(np.arange(num_cycles), np.mean(benchmark_MSE_plot_data, axis=0), yerr=np.std(benchmark_MSE_plot_data, axis=0), label='benchmark_MSE_log')\n",
        "plt.errorbar(np.arange(num_cycles), np.mean(working_MSE_plot_data, axis=0), yerr=np.std(working_MSE_plot_data, axis=0), label='working_MSE_log')\n",
        "plt.xlabel('Sampled Data Points')\n",
        "plt.ylabel('MSE on Validation Set')\n",
        "plt.title('Averaged Discovery Simulations')\n",
        "plt.legend()"
      ]
    },
    {
      "cell_type": "code",
      "execution_count": 24,
      "metadata": {
        "colab": {
          "base_uri": "https://localhost:8080/"
        },
        "id": "27JznUkydl-M",
        "outputId": "c41dc31f-f6cc-4f32-c315-8b22e3b25078"
      },
      "outputs": [
        {
          "name": "stdout",
          "output_type": "stream",
          "text": [
            "0.14047810274022263\n"
          ]
        }
      ],
      "source": [
        "print(np.sum(np.mean(working_MSE_plot_data, axis=0)))"
      ]
    },
    {
      "cell_type": "code",
      "execution_count": 17,
      "metadata": {
        "colab": {
          "base_uri": "https://localhost:8080/"
        },
        "id": "vS2mCNpwGed-",
        "outputId": "f38ce827-89f5-4506-a63d-edecae7bda63"
      },
      "outputs": [
        {
          "data": {
            "text/plain": [
              "array([0.04761697, 0.01644087, 0.01228641, 0.01318007, 0.00682447,\n",
              "       0.00473164, 0.00475838, 0.0044168 , 0.00392596, 0.00379017,\n",
              "       0.00291252, 0.00256868, 0.00233144, 0.00254474, 0.002369  ,\n",
              "       0.0025642 , 0.00234586, 0.00208275, 0.00163372, 0.00115345])"
            ]
          },
          "execution_count": 17,
          "metadata": {},
          "output_type": "execute_result"
        }
      ],
      "source": [
        "np.mean(working_MSE_plot_data, axis=0)\n"
      ]
    },
    {
      "cell_type": "markdown",
      "metadata": {
        "id": "RPPjmh_niqzO"
      },
      "source": [
        "## Ground Truth Model Descriptions"
      ]
    },
    {
      "cell_type": "markdown",
      "metadata": {
        "id": "j4H1DxIKq4jN"
      },
      "source": [
        "### Task Switching\n",
        "\n",
        "One of the most robust findings in cognitive psychology is that individuals make fewer errors and respond more slowly when repeating a task as compared to switching from one task to another. Yeung & Monsell (2003) explain this and other task-switching phenomena with a simple model in which the activation level of a task is related to its performance,\n",
        "\n",
        "$\n",
        "    P(\\text{Correct Response to Task A}) = \\frac{e^{1/T \\cdot {act_A}}}{e^{1/T \\cdot {act_A}} + e^{1/T \\cdot {act_B}}}.\n",
        "$\n",
        "\n",
        " where $T = 0.2$ is the choice temperature, and $act_A$ and $act_B$ correspond to the activity of tasks A and B, respectively. The activity of any task is a non-linear function of its input, $act_i = 1 - e^{1.5 \\cdot \\text{input}_i}$. The input consists of multiple factors,\n",
        "\n",
        "$\n",
        "     \\text{input}_i = \\text{strength}_i + \\text{priming} \\cdot \\text{repetition} + \\text{control}(i) + \\epsilon\n",
        "$\n",
        "\n",
        "including the degree of task practice, represented as $\\text{strength}_i$, and a priming factor, which is incorporated when the task on the current experimental trial is identical to that of the previous trial ($\\text{repetition} = 1$). Additionally, endogenous control is incorporated into the task input as a function of the task's strength (see Yeung & Monsell (2003) for more details). Finally, noise $\\epsilon \\sim N(0, 0.01^2)$ is added to the input. For the simulations reported below, we parameterized the model according to Table 4 in Yeung & Monsell (2003).\n",
        "\n",
        "The three experimental factors of the task switching model are the strengths of the two tasks, $\\text{strength}_i \\in \\{ 0.02k \\mid k \\in \\{1, \\ldots, 100\\}\\}$, and the type of task transition, $\\text{repetition} \\in \\{0,1\\}$. We considered the probability of correctly responding to {Task A} as the dependent variable of interest."
      ]
    }
  ],
  "metadata": {
    "colab": {
      "provenance": [],
      "toc_visible": true
    },
    "kernelspec": {
      "display_name": "Python 3",
      "name": "python3"
    },
    "language_info": {
      "codemirror_mode": {
        "name": "ipython",
        "version": 3
      },
      "file_extension": ".py",
      "mimetype": "text/x-python",
      "name": "python",
      "nbconvert_exporter": "python",
      "pygments_lexer": "ipython3",
      "version": "3.10.12"
    }
  },
  "nbformat": 4,
  "nbformat_minor": 0
}
